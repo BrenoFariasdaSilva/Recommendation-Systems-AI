{
 "cells": [
  {
   "cell_type": "markdown",
   "metadata": {},
   "source": [
    "# Extensions:\n",
    "- Jupyter (Microsoft)."
   ]
  },
  {
   "cell_type": "markdown",
   "metadata": {},
   "source": [
    "# Libraries:\n",
    "### Install Automatically:\n",
    "chmod +x ./install.sh && ./install.sh\n",
    "### Install Manually:\n",
    "pip install ipykernel  \n",
    "pip install numpy"
   ]
  },
  {
   "cell_type": "markdown",
   "metadata": {},
   "source": [
    "- What is NumPy? NumPy is a Python library used for working with multidimensional arrays, Math and Statistics operations, data visualization, and more.\n",
    "\n",
    "- How to use NumPy to store data NumPy is used to work with arrays. The array object in NumPy is called ndarray.\n",
    "\n",
    "- How to use NuMpy to do math and statistics operations? umPy is used to perform a wide variety of mathematical operations on arrays. Such operations are called Universal Functions (ufunc).\n",
    "\n",
    "- How to use NumPy to do data visualization? Matplotlib is a plotting library for Python. It is used along with NumPy to provide an environment that is an effective open source alternative for MatLab. It can also be used with graphics toolkits like PyQt and wxPython."
   ]
  },
  {
   "cell_type": "code",
   "execution_count": 7,
   "metadata": {},
   "outputs": [
    {
     "data": {
      "text/plain": [
       "array([1, 2, 3, 4, 5])"
      ]
     },
     "execution_count": 7,
     "metadata": {},
     "output_type": "execute_result"
    }
   ],
   "source": [
    "# NumPy's main object is the homogeneous multidimensional array.\n",
    "import numpy as np"
   ]
  },
  {
   "cell_type": "code",
   "execution_count": null,
   "metadata": {},
   "outputs": [],
   "source": [
    "# How to Create an Array?\n",
    "simple_array = np.array([1, 2, 3, 4, 5]) # 1D array of integers\n",
    "simple_array # print the array"
   ]
  },
  {
   "cell_type": "code",
   "execution_count": null,
   "metadata": {},
   "outputs": [],
   "source": [
    "# How to create a 2D array?\n",
    "\n",
    "multid_array = np.array([[1, 2], [3, 4], [5, 6]]) # 2D array of integers\n",
    "multid_array # print the array"
   ]
  },
  {
   "cell_type": "code",
   "execution_count": null,
   "metadata": {},
   "outputs": [],
   "source": [
    "# How to create a 2d array of zeros or identity matrix?\n",
    "\n",
    "zeros_array = np.zeros((3, 3)) # 3x3 array of zeros\n",
    "identity_array = np.eye(3) # 3x3 identity matrix\n",
    "\n",
    "zeros_array # print the array\n",
    "identity_array # print the array"
   ]
  },
  {
   "cell_type": "code",
   "execution_count": null,
   "metadata": {},
   "outputs": [],
   "source": [
    "# How to create a sequence of numbers?\n",
    "\n",
    "sequence_array = np.arange(50) # array of integers from 0 to 49\n",
    "sequence_array # print the array"
   ]
  },
  {
   "cell_type": "code",
   "execution_count": null,
   "metadata": {},
   "outputs": [],
   "source": [
    "# How to create a sequence of numbers as an matrix (reshape)?\n",
    "\n",
    "sequence_array = np.arange(50).reshape(5, 10) # 10x10 array of integers from 0 to 99\n",
    "sequence_array # print the array"
   ]
  },
  {
   "cell_type": "code",
   "execution_count": null,
   "metadata": {},
   "outputs": [],
   "source": [
    "# Convert/Create an NumPy array from a list\n",
    "\n",
    "list = [1, 2, 3, 4, 5]\n",
    "array = np.array(list)\n",
    "array"
   ]
  },
  {
   "cell_type": "code",
   "execution_count": null,
   "metadata": {},
   "outputs": [],
   "source": [
    "# Access an element of an array\n",
    "\n",
    "array[0] # print the first element of the array"
   ]
  },
  {
   "cell_type": "code",
   "execution_count": null,
   "metadata": {},
   "outputs": [],
   "source": [
    "# How to modify an element of an array?\n",
    "\n",
    "array[0] = 10 # modify the first element of the array\n",
    "array # print the array"
   ]
  },
  {
   "cell_type": "code",
   "execution_count": null,
   "metadata": {},
   "outputs": [],
   "source": [
    "# Special Attributes of an array: ndim, shape, size, dtype.\n",
    "\n",
    "multid_array = np.array([[1, 2], [3, 4], [5, 6]]) # 2D array of integers\n",
    "\n",
    "display(f\"Number of dimensions: {multid_array.ndim}\")\n",
    "display(f\"Shape of the array: {multid_array.shape}\")\n",
    "display(f\"Size of the array: {multid_array.size}\")\n",
    "display(f\"Data type of the array: {multid_array.dtype}\")"
   ]
  },
  {
   "cell_type": "code",
   "execution_count": null,
   "metadata": {},
   "outputs": [],
   "source": [
    "# Mathematical Operations on Arrays\n",
    "\n",
    "array1 = np.array([1, 2, 3, 4, 5])\n",
    "array2 = np.array([6, 7, 8, 9, 10])\n",
    "\n",
    "# This operations do not modify the original arrays\n",
    "display(f\"array1 + array2 = {array1 + array2}\")\n",
    "display(f\"array1 - array2 = {array1 - array2}\")\n",
    "display(f\"array1 * array2 = {array1 * array2}\")\n",
    "display(f\"array1 / array2 = {array1 / array2}\")"
   ]
  },
  {
   "cell_type": "code",
   "execution_count": null,
   "metadata": {},
   "outputs": [],
   "source": [
    "# Mathematical Operations on Arrays\n",
    "\n",
    "array1 = np.array([1, 2, 3, 4, 5])\n",
    "array2 = np.array([6, 7, 8, 9, 10])\n",
    "\n",
    "# This operations do not modify the original arrays\n",
    "display(f\"array1 + 10 = {array1 + 10}\")\n",
    "display(f\"array1 - 10 = {array1 - 10}\")\n",
    "display(f\"array1 * 10 = {array1 * 10}\")\n",
    "display(f\"array1 / 10 = {array1 / 10}\")"
   ]
  },
  {
   "cell_type": "code",
   "execution_count": null,
   "metadata": {},
   "outputs": [],
   "source": [
    "# Mathematical Operations on Arrays\n",
    "\n",
    "# This operations modify the original arrays\n",
    "array1 = array1 * 2\n",
    "array2 = array2 / 2\n",
    "\n",
    "display(f\"array1 = {array1}\")\n",
    "display(f\"array2 = {array2}\")"
   ]
  },
  {
   "cell_type": "code",
   "execution_count": null,
   "metadata": {},
   "outputs": [],
   "source": [
    "# Basic Access Methods in Arrays in NumPy\n",
    "# mean, std, min, max, sum, sort, argmin, argmax, etc.\n",
    "\n",
    "array = np.arange(50).reshape(5, 10) # 10x10 array of integers from 0 to 49\n",
    "\n",
    "display(f\"array = {array}\")\n",
    "display(f\"array[0] = {array[0]}\")\n",
    "display(f\"array[0][0] = {array[0][0]}\")\n",
    "display(f\"array.mean() = {array.mean()}\")\n",
    "display(f\"array.std() = {array.std()}\") # Standard deviation which is the square root of the variance\n",
    "display(f\"array.min() = {array.min()}\")\n",
    "display(f\"array.max() = {array.max()}\")\n",
    "display(f\"array[0].max() = {array[0].max()}\") # Get the highest value in the first line of the array\n",
    "display(f\"array.sum() = {array.sum()}\")\n",
    "display(f\"array.sum(axis=0) = {array.sum(axis=0)}\") # Sum of the columns\n",
    "display(f\"array.sum(axis=1) = {array.sum(axis=1)}\") # Sum of the lines\n",
    "display(f\"array.argmin() = {array.argmin()}\")\n",
    "display(f\"array.argmax() = {array.argmax()}\")\n"
   ]
  },
  {
   "cell_type": "code",
   "execution_count": null,
   "metadata": {},
   "outputs": [],
   "source": [
    "# Arithmetic Operations on Arrays in NumPy\n",
    "\n",
    "array1 = np.arange(10, 30)\n",
    "display(f\"np.arange(10, 30) = {array1}\")\n",
    "\n",
    "array1 = np.arange(10, 30, 2)\n",
    "display(f\"np.arange(10, 30, 2) = {array1}\")\n",
    "\n",
    "array1 = np.arange(9, -10, -1)\n",
    "display(f\"np.arange(9, -10, -1) = {array1}\")"
   ]
  },
  {
   "cell_type": "code",
   "execution_count": null,
   "metadata": {},
   "outputs": [],
   "source": [
    "# Logical Operations on Arrays in NumPy\n",
    "\n",
    "array1 = np.arange(0, 10)\n",
    "array2 = np.arange(0, 10)\n",
    "\n",
    "display(f\"array1 == array2 = {array1 == array2}\")\n",
    "\n",
    "array2 = np.arange(5, 15)\n",
    "\n",
    "display(f\"array1 == array2 = {array1 == array2}\")\n",
    "\n",
    "display(f\"array1 > array2 = {array1 > array2}\")\n",
    "display(f\"array1 < array2 = {array1 < array2}\")"
   ]
  },
  {
   "cell_type": "code",
   "execution_count": null,
   "metadata": {},
   "outputs": [],
   "source": [
    "# Difference of copy and reference (Broadcasting) in NumPy\n",
    "\n",
    "array1 = np.arange(0, 10)\n",
    "\n",
    "array2 = array1 # reference\n",
    "\n",
    "array2[0] = 100\n",
    "\n",
    "display(f\"array1 = {array1}\")\n",
    "display(f\"array2 = {array2}\")\n",
    "\n",
    "array1 = np.arange(0, 10)\n",
    "\n",
    "array2 = array1.copy() # copy\n",
    "\n",
    "array2[0] = 100\n",
    "\n",
    "display(f\"array1 = {array1}\")\n",
    "display(f\"array2 = {array2}\")"
   ]
  },
  {
   "cell_type": "markdown",
   "metadata": {},
   "source": [
    "# Performance:\n",
    "\n",
    "- Why use NumPy arrays instead of Python lists?\n",
    "\n",
    "- 1. NumPy arrays are faster and more compact than Python lists.\n",
    "- 2. NumPy arrays are more convenient than Python lists.\n",
    "- 3. NumPy arrays are more efficient than Python lists."
   ]
  },
  {
   "cell_type": "code",
   "execution_count": 4,
   "metadata": {},
   "outputs": [
    {
     "data": {
      "text/plain": [
       "'sum = 990000'"
      ]
     },
     "metadata": {},
     "output_type": "display_data"
    },
    {
     "name": "stdout",
     "output_type": "stream",
     "text": [
      "CPU times: user 3.53 ms, sys: 0 ns, total: 3.53 ms\n",
      "Wall time: 3.21 ms\n"
     ]
    }
   ],
   "source": [
    "%%time\n",
    "\n",
    "# Standard way of summing two lists in Python:\n",
    "\n",
    "first_array = range(100)\n",
    "second_array = range(100)\n",
    "\n",
    "sum = 0\n",
    "\n",
    "for i in first_array:\n",
    "\tfor j in second_array:\n",
    "\t\tsum += i + j\n",
    "\n",
    "display(f\"sum = {sum}\") # +- 3.50 ms"
   ]
  },
  {
   "cell_type": "code",
   "execution_count": 8,
   "metadata": {},
   "outputs": [
    {
     "data": {
      "text/plain": [
       "'sum = 9900'"
      ]
     },
     "metadata": {},
     "output_type": "display_data"
    },
    {
     "name": "stdout",
     "output_type": "stream",
     "text": [
      "CPU times: user 1.36 ms, sys: 190 µs, total: 1.55 ms\n",
      "Wall time: 1.15 ms\n"
     ]
    }
   ],
   "source": [
    "%%time\n",
    "\n",
    "# Now let's do the same thing with NumPy arrays:\n",
    "\n",
    "first_array = np.arange(100)\n",
    "second_array = np.arange(100)\n",
    "\n",
    "sum = (first_array + second_array).sum()\n",
    "display(f\"sum = {sum}\") # +- 1.36 ms"
   ]
  }
 ],
 "metadata": {
  "kernelspec": {
   "display_name": "Python 3",
   "language": "python",
   "name": "python3"
  },
  "language_info": {
   "codemirror_mode": {
    "name": "ipython",
    "version": 3
   },
   "file_extension": ".py",
   "mimetype": "text/x-python",
   "name": "python",
   "nbconvert_exporter": "python",
   "pygments_lexer": "ipython3",
   "version": "3.10.12"
  },
  "orig_nbformat": 4
 },
 "nbformat": 4,
 "nbformat_minor": 2
}
