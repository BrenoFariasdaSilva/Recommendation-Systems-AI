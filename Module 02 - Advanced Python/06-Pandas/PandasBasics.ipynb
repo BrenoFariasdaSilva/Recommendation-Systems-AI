{
 "cells": [
  {
   "cell_type": "markdown",
   "metadata": {},
   "source": [
    "# Extensions:\n",
    "- Jupyter (Microsoft)."
   ]
  },
  {
   "cell_type": "markdown",
   "metadata": {},
   "source": [
    "# Libraries:\n",
    "### Install Automatically:\n",
    "chmod +x ./install.sh && ./install.sh\n",
    "### Install Manually:\n",
    "pip install ipykernel  \n",
    "pip install pandas"
   ]
  },
  {
   "cell_type": "markdown",
   "metadata": {},
   "source": [
    "#### NumPy vs Pandas:\n",
    "- The difference between NumPy and Pandas is that NumPy is a package for scientific computing in Python, while Pandas is a package for data analysis in Python.\n",
    "\n",
    "#### NumPy Arrays vs Pandas DataFrames:\n",
    "- NumPy Arrays are used to store a collection of elements of the same data type, while Pandas DataFrames are used to store rows and columns of heterogeneous data."
   ]
  },
  {
   "cell_type": "code",
   "execution_count": null,
   "metadata": {},
   "outputs": [],
   "source": [
    "# Import Pandas and Numpy:\n",
    "import pandas as pd\n",
    "import numpy as np"
   ]
  },
  {
   "cell_type": "code",
   "execution_count": null,
   "metadata": {},
   "outputs": [],
   "source": []
  }
 ],
 "metadata": {
  "kernelspec": {
   "display_name": "Python 3",
   "language": "python",
   "name": "python3"
  },
  "language_info": {
   "name": "python",
   "version": "3.10.12"
  },
  "orig_nbformat": 4
 },
 "nbformat": 4,
 "nbformat_minor": 2
}
