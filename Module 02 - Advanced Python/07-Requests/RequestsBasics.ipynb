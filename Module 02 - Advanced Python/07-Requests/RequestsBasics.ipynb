{
 "cells": [
  {
   "cell_type": "markdown",
   "metadata": {},
   "source": [
    "# Extensions:\n",
    "- Jupyter (Microsoft)."
   ]
  },
  {
   "cell_type": "markdown",
   "metadata": {},
   "source": [
    "# Libraries:\n",
    "Install Automatically:\n",
    "```bash\n",
    "chmod +x ./install.sh && ./install.sh\n",
    "```\n",
    "\n",
    "Install Manually:\n",
    "```bash\n",
    "pip install ipykernel  \n",
    "pip install requests\n",
    "```"
   ]
  },
  {
   "cell_type": "markdown",
   "metadata": {},
   "source": [
    "#### Mainly HTTP Status Codes:\n",
    "- 200: OK -> The request was successful.\n",
    "- 404: Not Found -> The requested resource could not be found.\n",
    "- 403: Forbidden -> The request is for something forbidden. Authorization will not help.\n",
    "- 401: Unauthorized -> The request requires user authentication.\n",
    "- 500: Internal Server Error -> The server encountered an unexpected condition which prevented it from fulfilling the request.\n",
    "- 503: Service Unavailable -> The server is not ready to handle the request."
   ]
  },
  {
   "cell_type": "markdown",
   "metadata": {},
   "source": [
    "The Get Method of an website request return an object of the Response class.\n",
    "The Response class has the following attributes:\n",
    "\n",
    "- status_code: The status code of the response.\n",
    "- headers: The headers of the response.\n",
    "- content: The content of the response, in bytes.\n",
    "- text: The content of the response, in unicode.\n",
    "- encoding: The encoding of the response.\n",
    "- ok: Returns True if status_code is less than 400, False if not.\n",
    "- url: The URL of the response.\n",
    "- history: A list of Response objects from the history of the Request. Any redirect responses will end up here.\n",
    "- cookies: A dictionary of Cookies the server sent back.\n",
    "- elapsed: The amount of time elapsed between sending the request and the arrival of the response (as a timedelta).\n",
    "- reason: The reason phrase returned by the server. None if no reason phrase is returned.\n",
    "\n",
    "And the Response class has the following methods:\n",
    "- close(): Closes the underlying connection and releases any memory used by the response.\n",
    "- json(): Returns the json-encoded content of a response, if any.\n",
    "- iter_content(): Iterates over the response data. When stream=True is set on the request, this avoids reading the content at once into memory for large responses.\n",
    "- iter_lines(): Iterates over the response data, one line at a time. When stream=True is set on the request, this avoids reading the content at once into memory for large responses."
   ]
  }
 ],
 "metadata": {
  "kernelspec": {
   "display_name": "Python 3",
   "language": "python",
   "name": "python3"
  },
  "language_info": {
   "codemirror_mode": {
    "name": "ipython",
    "version": 3
   },
   "file_extension": ".py",
   "mimetype": "text/x-python",
   "name": "python",
   "nbconvert_exporter": "python",
   "pygments_lexer": "ipython3",
   "version": "3.10.12"
  },
  "orig_nbformat": 4
 },
 "nbformat": 4,
 "nbformat_minor": 2
}
