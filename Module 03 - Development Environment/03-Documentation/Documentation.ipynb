{
 "cells": [
  {
   "cell_type": "markdown",
   "id": "3a5c2292",
   "metadata": {},
   "source": [
    "# Python Documentation: Writing and Using Docstrings\n",
    "\n",
    "This Jupyter Notebook provides an overview of Python documentation, the differences between comments and documentation, the use of docstrings, and how to effectively utilize documentation in Python."
   ]
  },
  {
   "cell_type": "markdown",
   "id": "0554a804",
   "metadata": {},
   "source": [
    "## Introduction\n",
    "\n",
    "- Briefly introduce the importance of documentation in software development.\n",
    "- Mention that this document will focus on Python documentation, including comments and docstrings."
   ]
  },
  {
   "cell_type": "markdown",
   "id": "6663b358",
   "metadata": {},
   "source": [
    "## Comments vs. Documentation\n",
    "\n",
    "Explain the differences between comments and documentation in Python:\n",
    "- Comments: Used for in-code explanations, not visible in the final program.\n",
    "- Documentation: Comprehensive information about code, accessible to users/developers."
   ]
  },
  {
   "cell_type": "markdown",
   "id": "61720a95",
   "metadata": {},
   "source": [
    "## Docstrings\n",
    "\n",
    "Explain docstrings and their significance in Python:\n",
    "- Definition: String literals as the first statement in a module, function, class, or method.\n",
    "- Purpose: Describe what the code does and how to use it.\n",
    "- Show examples of single-line and multi-line docstrings."
   ]
  },
  {
   "cell_type": "markdown",
   "id": "958f9907",
   "metadata": {},
   "source": [
    "## Writing Effective Docstrings\n",
    "\n",
    "Provide guidelines on writing clear and effective docstrings:\n",
    "- Use clear and concise language.\n",
    "- Describe the purpose, parameters, return values, and any exceptions raised.\n",
    "- Follow PEP 257 guidelines for docstring conventions."
   ]
  },
  {
   "cell_type": "markdown",
   "id": "a494ca3b",
   "metadata": {},
   "source": [
    "## Accessing Docstrings\n",
    "\n",
    "Explain how to access docstrings in Python code:\n",
    "- Using the `help()` function.\n",
    "- Accessing `__doc__` attribute."
   ]
  },
  {
   "cell_type": "code",
   "execution_count": 2,
   "id": "34c9ce68",
   "metadata": {},
   "outputs": [
    {
     "name": "stdout",
     "output_type": "stream",
     "text": [
      "Help on built-in function sin in module math:\n",
      "\n",
      "sin(x, /)\n",
      "    Return the sine of x (measured in radians).\n",
      "\n"
     ]
    }
   ],
   "source": [
    "# Example of help(). It can be used for any function or module (library).\n",
    "\n",
    "import math\n",
    "\n",
    "# help(math)\n",
    "help(math.sin)"
   ]
  },
  {
   "cell_type": "markdown",
   "id": "3a84d3f5",
   "metadata": {},
   "source": [
    "## Using Documentation in Python\n",
    "\n",
    "Discuss how to use documentation effectively in Python:\n",
    "- Importance of well-documented code for collaboration and maintainability.\n",
    "- Demonstrating how to read and understand docstrings of functions and modules.\n",
    "- Encouraging developers to write meaningful and helpful docstrings."
   ]
  },
  {
   "cell_type": "markdown",
   "id": "5303de8a",
   "metadata": {},
   "source": [
    "## Summary\n",
    "\n",
    "Summarize the key points discussed in the document about Python documentation, the differences between comments and documentation, docstrings, and how to use documentation effectively in Python."
   ]
  },
  {
   "cell_type": "markdown",
   "id": "c7dde0bd",
   "metadata": {},
   "source": [
    "## Additional Resources\n",
    "\n",
    "Provide links or references to additional resources related to Python documentation, comments, docstrings, and best practices."
   ]
  }
 ],
 "metadata": {
  "kernelspec": {
   "display_name": "Python 3",
   "language": "python",
   "name": "python3"
  },
  "language_info": {
   "codemirror_mode": {
    "name": "ipython",
    "version": 3
   },
   "file_extension": ".py",
   "mimetype": "text/x-python",
   "name": "python",
   "nbconvert_exporter": "python",
   "pygments_lexer": "ipython3",
   "version": "3.10.12"
  }
 },
 "nbformat": 4,
 "nbformat_minor": 5
}
