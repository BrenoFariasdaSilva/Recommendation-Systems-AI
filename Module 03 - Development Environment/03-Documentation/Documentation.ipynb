{
 "cells": [
  {
   "cell_type": "markdown",
   "id": "7d6af85c",
   "metadata": {},
   "source": [
    "# Python Documentation: Using help() and pydoc\n",
    "\n",
    "This Jupyter Notebook provides detailed information on how to access and use Python documentation effectively using the `help()` function and the `pydoc` command."
   ]
  },
  {
   "cell_type": "markdown",
   "id": "31f2a668",
   "metadata": {},
   "source": [
    "## Introduction\n",
    "\n",
    "- Briefly introduce the importance of documentation in software development.\n",
    "- Mention that this document will focus on how to access and utilize Python documentation using `help()` and `pydoc`."
   ]
  },
  {
   "cell_type": "markdown",
   "id": "f3bc998b",
   "metadata": {},
   "source": [
    "## Using the `help()` Function\n",
    "\n",
    "Explain how to use the `help()` function to access Python documentation:\n",
    "- Syntax: `help(object)`\n",
    "- Provide examples of using `help()` with built-in functions, modules, and user-defined functions."
   ]
  },
  {
   "cell_type": "code",
   "execution_count": null,
   "id": "a1ed0fbe",
   "metadata": {},
   "outputs": [],
   "source": [
    "# Example 1: Using help() with built-in functions\n",
    "help(len)"
   ]
  },
  {
   "cell_type": "code",
   "execution_count": null,
   "id": "4088b4d9",
   "metadata": {},
   "outputs": [],
   "source": [
    "# Example 2: Using help() with modules\n",
    "import math\n",
    "help(math)"
   ]
  },
  {
   "cell_type": "markdown",
   "id": "c7a4e2fc",
   "metadata": {},
   "source": [
    "# Example 2: Using help() with modules\n",
    "import math\n",
    "help(math)"
   ]
  },
  {
   "cell_type": "code",
   "execution_count": 4,
   "id": "eb1a119e",
   "metadata": {},
   "outputs": [
    {
     "name": "stdout",
     "output_type": "stream",
     "text": [
      "Help on built-in function sin in module math:\n",
      "\n",
      "sin(x, /)\n",
      "    Return the sine of x (measured in radians).\n",
      "\n"
     ]
    }
   ],
   "source": [
    "# Example 3: Using help() with modules attributed / functions.\n",
    "import math\n",
    "help(math.sin)"
   ]
  },
  {
   "cell_type": "code",
   "execution_count": 5,
   "id": "23ba43ca",
   "metadata": {},
   "outputs": [
    {
     "name": "stdout",
     "output_type": "stream",
     "text": [
      "Help on function greet in module __main__:\n",
      "\n",
      "greet(name)\n",
      "    Greets a person by name.\n",
      "    \n",
      "    Args:\n",
      "        name (str): The name of the person to greet.\n",
      "\n"
     ]
    }
   ],
   "source": [
    "# Example 3: Using help() with user-defined functions\n",
    "def greet(name):\n",
    "    \"\"\"\n",
    "    Greets a person by name.\n",
    "    \n",
    "    Args:\n",
    "        name (str): The name of the person to greet.\n",
    "    \"\"\"\n",
    "    print(f\"Hello, {name}!\")\n",
    "\n",
    "help(greet)"
   ]
  },
  {
   "cell_type": "markdown",
   "id": "ffc27ad9",
   "metadata": {},
   "source": [
    "## Using `pydoc`\n",
    "\n",
    "Explain how to use the `pydoc` command-line tool to access Python documentation:\n",
    "- Describe how to access documentation for modules and user-defined functions/classes using `pydoc`.\n",
    "- Provide examples of using `pydoc` to generate documentation for modules and functions."
   ]
  },
  {
   "cell_type": "code",
   "execution_count": 1,
   "id": "fd09f95b",
   "metadata": {},
   "outputs": [
    {
     "name": "stdout",
     "output_type": "stream",
     "text": [
      "Server ready at http://localhost:43151/\n",
      "Server commands: [b]rowser, [q]uit\n",
      "server> "
     ]
    }
   ],
   "source": [
    "# Generate pydoc for the standard modules and open it in browser\n",
    "# Path: module.py\n",
    "import os\n",
    "\n",
    "os.system(\"python3 -m pydoc -b\") # Generate pydoc for the standard modules and open it in browser"
   ]
  },
  {
   "cell_type": "code",
   "execution_count": null,
   "id": "973977a8",
   "metadata": {},
   "outputs": [],
   "source": [
    "# Generate pydoc for our own module\n",
    "# Path: module.py\n",
    "import os\n",
    "\n",
    "# os.system(\"python3 -m pydoc module\") # Generate pydoc for our own module. Similar to help(module)\n",
    "# os.system(\"python3 -m pydoc -w module\") # Generate pydoc for our own module but in html format\n",
    "os.system(\"python3 -m pydoc -b module\") # Generate pydoc for our own module and open it in browser"
   ]
  },
  {
   "cell_type": "markdown",
   "id": "497069a4",
   "metadata": {},
   "source": [
    "## Summary\n",
    "\n",
    "Summarize the key points discussed in the document about using `help()` and `pydoc` to access Python documentation."
   ]
  },
  {
   "cell_type": "markdown",
   "id": "168dc439",
   "metadata": {},
   "source": [
    "## Additional Resources\n",
    "\n",
    "Provide links or references to additional resources related to Python documentation, `help()`, `pydoc`, and best practices."
   ]
  }
 ],
 "metadata": {
  "kernelspec": {
   "display_name": "Python 3",
   "language": "python",
   "name": "python3"
  },
  "language_info": {
   "codemirror_mode": {
    "name": "ipython",
    "version": 3
   },
   "file_extension": ".py",
   "mimetype": "text/x-python",
   "name": "python",
   "nbconvert_exporter": "python",
   "pygments_lexer": "ipython3",
   "version": "3.9.7"
  }
 },
 "nbformat": 4,
 "nbformat_minor": 5
}
