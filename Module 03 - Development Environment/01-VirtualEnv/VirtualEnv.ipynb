{
 "cells": [
  {
   "cell_type": "markdown",
   "metadata": {},
   "source": [
    "# How to Create and Manage Virtual Environments in Python\n",
    "\n",
    "This Jupyter Notebook provides step-by-step instructions on how to create and manage virtual environments in Python using Virtualenv. It also covers how to use pip to install, uninstall, list, and show package information. Additionally, it explains how to install packages locally using 'pip install --user', generate requirements files, and install packages from requirements files."
   ]
  },
  {
   "cell_type": "markdown",
   "metadata": {},
   "source": [
    "## Installation of Virtualenv\n",
    "\n",
    "Before creating virtual environments, you need to install 'virtualenv' if you haven't already. You can do this by running the following command:"
   ]
  },
  {
   "cell_type": "code",
   "execution_count": null,
   "metadata": {},
   "outputs": [],
   "source": [
    "# Install virtualenv using pip\n",
    "pip install virtualenv --user"
   ]
  },
  {
   "cell_type": "markdown",
   "metadata": {},
   "source": [
    "## Step 1: Create a Virtual Environment\n",
    "\n",
    "To create a virtual environment, follow these steps:"
   ]
  },
  {
   "cell_type": "code",
   "execution_count": 2,
   "metadata": {},
   "outputs": [
    {
     "name": "stderr",
     "output_type": "stream",
     "text": [
      "sh: 1: python: not found\n"
     ]
    },
    {
     "data": {
      "text/plain": [
       "32512"
      ]
     },
     "execution_count": 2,
     "metadata": {},
     "output_type": "execute_result"
    }
   ],
   "source": [
    "# Import the necessary module\n",
    "import os\n",
    "\n",
    "# Define the name for your virtual environment\n",
    "venv_name = \"myFirstEnv\"\n",
    "\n",
    "# Create the virtual environment\n",
    "os.system(f\"python3 -m venv .{venv_name}\")"
   ]
  },
  {
   "cell_type": "markdown",
   "metadata": {},
   "source": [
    "## Step 2: Activate the Virtual Environment\n",
    "\n",
    "To activate the virtual environment, use the following command:"
   ]
  },
  {
   "cell_type": "code",
   "execution_count": 3,
   "metadata": {},
   "outputs": [
    {
     "name": "stderr",
     "output_type": "stream",
     "text": [
      "sh: 1: source: not found\n"
     ]
    },
    {
     "data": {
      "text/plain": [
       "32512"
      ]
     },
     "execution_count": 3,
     "metadata": {},
     "output_type": "execute_result"
    }
   ],
   "source": [
    "# Activate the virtual environment in Linux\n",
    "activate_command = f\"source {venv_name}/bin/activate\"\n",
    "os.system(activate_command)\n",
    "\n",
    "# Activate the virtual environment in MacOs\n",
    "# activate_command = f\"source {venv_name}/bin/activate\"\n",
    "\n",
    "\n",
    "# Activate the virtual environment in Windows\n",
    "# activate_command = f\"{venv_name}\\Scripts\\activate.bat\"\n",
    "\n",
    "# To deactivate the virtual environment, simply run:\n",
    "# deactivate"
   ]
  },
  {
   "cell_type": "markdown",
   "metadata": {},
   "source": [
    "## Step 3: Install Packages\n",
    "\n",
    "You can use pip to install packages in your virtual environment. For example, to install the 'requests' package, run the following command:"
   ]
  },
  {
   "cell_type": "code",
   "execution_count": 4,
   "metadata": {},
   "outputs": [
    {
     "name": "stdout",
     "output_type": "stream",
     "text": [
      "Defaulting to user installation because normal site-packages is not writeable\n",
      "Requirement already satisfied: requests in /home/brenofarias/.local/lib/python3.10/site-packages (2.28.2)\n",
      "Requirement already satisfied: charset-normalizer<4,>=2 in /home/brenofarias/.local/lib/python3.10/site-packages (from requests) (2.1.1)\n",
      "Requirement already satisfied: idna<4,>=2.5 in /usr/lib/python3/dist-packages (from requests) (3.3)\n",
      "Requirement already satisfied: urllib3<1.27,>=1.21.1 in /usr/lib/python3/dist-packages (from requests) (1.26.5)\n",
      "Requirement already satisfied: certifi>=2017.4.17 in /home/brenofarias/.local/lib/python3.10/site-packages (from requests) (2022.12.7)\n"
     ]
    },
    {
     "data": {
      "text/plain": [
       "0"
      ]
     },
     "execution_count": 4,
     "metadata": {},
     "output_type": "execute_result"
    }
   ],
   "source": [
    "# Install a package using pip\n",
    "package_to_install = \"requests\"\n",
    "os.system(f\"pip install {package_to_install}\")"
   ]
  },
  {
   "cell_type": "markdown",
   "metadata": {},
   "source": [
    "## Step 4: Uninstall Packages\n",
    "\n",
    "To uninstall a package, use the following command:"
   ]
  },
  {
   "cell_type": "code",
   "execution_count": 5,
   "metadata": {},
   "outputs": [
    {
     "name": "stdout",
     "output_type": "stream",
     "text": [
      "Found existing installation: requests 2.28.2\n",
      "Uninstalling requests-2.28.2:\n",
      "  Would remove:\n",
      "    /home/brenofarias/.local/lib/python3.10/site-packages/requests-2.28.2.dist-info/*\n",
      "    /home/brenofarias/.local/lib/python3.10/site-packages/requests/*\n",
      "Proceed (Y/n)? "
     ]
    }
   ],
   "source": [
    "# Uninstall a package using pip\n",
    "package_to_uninstall = \"requests\"\n",
    "os.system(f\"pip uninstall {package_to_uninstall}\")"
   ]
  },
  {
   "cell_type": "markdown",
   "metadata": {},
   "source": [
    "## Step 5: List Installed Packages\n",
    "\n",
    "To list all the installed packages in your virtual environment, use the following command:"
   ]
  },
  {
   "cell_type": "code",
   "execution_count": 1,
   "metadata": {},
   "outputs": [
    {
     "ename": "NameError",
     "evalue": "name 'os' is not defined",
     "output_type": "error",
     "traceback": [
      "\u001b[0;31m---------------------------------------------------------------------------\u001b[0m",
      "\u001b[0;31mNameError\u001b[0m                                 Traceback (most recent call last)",
      "Cell \u001b[0;32mIn[1], line 2\u001b[0m\n\u001b[1;32m      1\u001b[0m \u001b[39m# List installed packages using pip\u001b[39;00m\n\u001b[0;32m----> 2\u001b[0m os\u001b[39m.\u001b[39msystem(\u001b[39m\"\u001b[39m\u001b[39mpip list\u001b[39m\u001b[39m\"\u001b[39m)\n",
      "\u001b[0;31mNameError\u001b[0m: name 'os' is not defined"
     ]
    }
   ],
   "source": [
    "# List installed packages using pip\n",
    "os.system(\"pip list\")"
   ]
  },
  {
   "cell_type": "markdown",
   "metadata": {},
   "source": [
    "## Step 6: Show Package Information\n",
    "\n",
    "To display detailed information about a specific package, use the following command:"
   ]
  },
  {
   "cell_type": "code",
   "execution_count": null,
   "metadata": {},
   "outputs": [],
   "source": [
    "# Show package information using pip\n",
    "package_to_show = \"requests\"\n",
    "os.system(f\"pip show {package_to_show}\")"
   ]
  },
  {
   "cell_type": "markdown",
   "metadata": {},
   "source": [
    "## Step 7: Install Packages Locally\n",
    "\n",
    "To install packages locally, use the following command:"
   ]
  },
  {
   "cell_type": "code",
   "execution_count": null,
   "metadata": {},
   "outputs": [],
   "source": [
    "# Install a package locally using pip\n",
    "package_to_install_locally = \"numpy\"\n",
    "os.system(f\"pip install --user {package_to_install_locally}\")"
   ]
  },
  {
   "cell_type": "markdown",
   "metadata": {},
   "source": [
    "## Step 8: Generate Requirements Files\n",
    "\n",
    "To generate a requirements file containing a list of installed packages, use the following command:"
   ]
  },
  {
   "cell_type": "code",
   "execution_count": null,
   "metadata": {},
   "outputs": [],
   "source": [
    "# Generate a requirements file using pip freeze\n",
    "os.system(\"pip freeze > requirements.txt\")"
   ]
  },
  {
   "cell_type": "markdown",
   "metadata": {},
   "source": [
    "## Step 9: Install Packages from Requirements Files\n",
    "\n",
    "To install packages from a requirements file, use the following command:"
   ]
  },
  {
   "cell_type": "code",
   "execution_count": null,
   "metadata": {},
   "outputs": [],
   "source": [
    "# Install packages from a requirements file using pip\n",
    "os.system(\"pip install -r requirements.txt\")"
   ]
  },
  {
   "cell_type": "markdown",
   "metadata": {},
   "source": [
    "## Summary\n",
    "\n",
    "This notebook demonstrated how to create and manage virtual environments using Virtualenv, as well as how to use pip to install, uninstall, list, and show package information. It also covered how to install packages locally using 'pip install --user', generate requirements files, and install packages from requirements files."
   ]
  }
 ],
 "metadata": {
  "kernelspec": {
   "display_name": "Python 3",
   "language": "python",
   "name": "python3"
  },
  "language_info": {
   "codemirror_mode": {
    "name": "ipython",
    "version": 3
   },
   "file_extension": ".py",
   "mimetype": "text/x-python",
   "name": "python",
   "nbconvert_exporter": "python",
   "pygments_lexer": "ipython3",
   "version": "3.10.12"
  }
 },
 "nbformat": 4,
 "nbformat_minor": 5
}
